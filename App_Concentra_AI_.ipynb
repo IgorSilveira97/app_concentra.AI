{
  "nbformat": 4,
  "nbformat_minor": 0,
  "metadata": {
    "colab": {
      "provenance": []
    },
    "kernelspec": {
      "name": "python3",
      "display_name": "Python 3"
    },
    "language_info": {
      "name": "python"
    }
  },
  "cells": [
    {
      "cell_type": "code",
      "source": [
        "%pip -q install google-genai"
      ],
      "metadata": {
        "id": "UCCbECexLk_h"
      },
      "execution_count": 4,
      "outputs": []
    },
    {
      "cell_type": "code",
      "source": [
        "import os\n",
        "from google.colab import userdata\n",
        "\n",
        "os.environ[\"GOOGLE_API_KEY\"] = userdata.get('GOOGLE_API_KEY')"
      ],
      "metadata": {
        "id": "NfCqHo1tLk8P"
      },
      "execution_count": 5,
      "outputs": []
    },
    {
      "cell_type": "code",
      "source": [
        "from google import genai\n",
        "\n",
        "client = genai.Client()\n",
        "\n",
        "MODEL_ID = \"gemini-2.0-flash\""
      ],
      "metadata": {
        "id": "bV4w0H5TLk5g"
      },
      "execution_count": 6,
      "outputs": []
    },
    {
      "cell_type": "code",
      "source": [
        "!pip install -q google-adk"
      ],
      "metadata": {
        "id": "a1eRPalxEnj7",
        "colab": {
          "base_uri": "https://localhost:8080/"
        },
        "outputId": "a945bf51-eea8-4d96-d596-9706e34773b7"
      },
      "execution_count": 7,
      "outputs": [
        {
          "output_type": "stream",
          "name": "stdout",
          "text": [
            "\u001b[?25l   \u001b[90m━━━━━━━━━━━━━━━━━━━━━━━━━━━━━━━━━━━━━━━━\u001b[0m \u001b[32m0.0/1.2 MB\u001b[0m \u001b[31m?\u001b[0m eta \u001b[36m-:--:--\u001b[0m\r\u001b[2K   \u001b[91m━━━━━━━━━━━━━━━━━━━━━━━━━━━━━\u001b[0m\u001b[91m╸\u001b[0m\u001b[90m━━━━━━━━━━\u001b[0m \u001b[32m0.9/1.2 MB\u001b[0m \u001b[31m26.5 MB/s\u001b[0m eta \u001b[36m0:00:01\u001b[0m\r\u001b[2K   \u001b[90m━━━━━━━━━━━━━━━━━━━━━━━━━━━━━━━━━━━━━━━━\u001b[0m \u001b[32m1.2/1.2 MB\u001b[0m \u001b[31m16.7 MB/s\u001b[0m eta \u001b[36m0:00:00\u001b[0m\n",
            "\u001b[?25h\u001b[?25l   \u001b[90m━━━━━━━━━━━━━━━━━━━━━━━━━━━━━━━━━━━━━━━━\u001b[0m \u001b[32m0.0/232.1 kB\u001b[0m \u001b[31m?\u001b[0m eta \u001b[36m-:--:--\u001b[0m\r\u001b[2K   \u001b[90m━━━━━━━━━━━━━━━━━━━━━━━━━━━━━━━━━━━━━━━━\u001b[0m \u001b[32m232.1/232.1 kB\u001b[0m \u001b[31m9.5 MB/s\u001b[0m eta \u001b[36m0:00:00\u001b[0m\n",
            "\u001b[2K   \u001b[90m━━━━━━━━━━━━━━━━━━━━━━━━━━━━━━━━━━━━━━━━\u001b[0m \u001b[32m95.2/95.2 kB\u001b[0m \u001b[31m5.2 MB/s\u001b[0m eta \u001b[36m0:00:00\u001b[0m\n",
            "\u001b[2K   \u001b[90m━━━━━━━━━━━━━━━━━━━━━━━━━━━━━━━━━━━━━━━━\u001b[0m \u001b[32m217.1/217.1 kB\u001b[0m \u001b[31m7.6 MB/s\u001b[0m eta \u001b[36m0:00:00\u001b[0m\n",
            "\u001b[2K   \u001b[90m━━━━━━━━━━━━━━━━━━━━━━━━━━━━━━━━━━━━━━━━\u001b[0m \u001b[32m334.1/334.1 kB\u001b[0m \u001b[31m15.3 MB/s\u001b[0m eta \u001b[36m0:00:00\u001b[0m\n",
            "\u001b[2K   \u001b[90m━━━━━━━━━━━━━━━━━━━━━━━━━━━━━━━━━━━━━━━━\u001b[0m \u001b[32m125.1/125.1 kB\u001b[0m \u001b[31m7.1 MB/s\u001b[0m eta \u001b[36m0:00:00\u001b[0m\n",
            "\u001b[2K   \u001b[90m━━━━━━━━━━━━━━━━━━━━━━━━━━━━━━━━━━━━━━━━\u001b[0m \u001b[32m65.8/65.8 kB\u001b[0m \u001b[31m3.7 MB/s\u001b[0m eta \u001b[36m0:00:00\u001b[0m\n",
            "\u001b[2K   \u001b[90m━━━━━━━━━━━━━━━━━━━━━━━━━━━━━━━━━━━━━━━━\u001b[0m \u001b[32m119.0/119.0 kB\u001b[0m \u001b[31m7.8 MB/s\u001b[0m eta \u001b[36m0:00:00\u001b[0m\n",
            "\u001b[2K   \u001b[90m━━━━━━━━━━━━━━━━━━━━━━━━━━━━━━━━━━━━━━━━\u001b[0m \u001b[32m194.9/194.9 kB\u001b[0m \u001b[31m14.7 MB/s\u001b[0m eta \u001b[36m0:00:00\u001b[0m\n",
            "\u001b[2K   \u001b[90m━━━━━━━━━━━━━━━━━━━━━━━━━━━━━━━━━━━━━━━━\u001b[0m \u001b[32m62.5/62.5 kB\u001b[0m \u001b[31m4.2 MB/s\u001b[0m eta \u001b[36m0:00:00\u001b[0m\n",
            "\u001b[2K   \u001b[90m━━━━━━━━━━━━━━━━━━━━━━━━━━━━━━━━━━━━━━━━\u001b[0m \u001b[32m103.3/103.3 kB\u001b[0m \u001b[31m7.5 MB/s\u001b[0m eta \u001b[36m0:00:00\u001b[0m\n",
            "\u001b[2K   \u001b[90m━━━━━━━━━━━━━━━━━━━━━━━━━━━━━━━━━━━━━━━━\u001b[0m \u001b[32m44.4/44.4 kB\u001b[0m \u001b[31m3.3 MB/s\u001b[0m eta \u001b[36m0:00:00\u001b[0m\n",
            "\u001b[2K   \u001b[90m━━━━━━━━━━━━━━━━━━━━━━━━━━━━━━━━━━━━━━━━\u001b[0m \u001b[32m72.0/72.0 kB\u001b[0m \u001b[31m5.2 MB/s\u001b[0m eta \u001b[36m0:00:00\u001b[0m\n",
            "\u001b[?25h"
          ]
        }
      ]
    },
    {
      "cell_type": "code",
      "execution_count": 8,
      "metadata": {
        "id": "aePV2bdfDeoW"
      },
      "outputs": [],
      "source": [
        "from google.adk.agents import Agent\n",
        "from google.adk.runners import Runner\n",
        "from google.adk.sessions import InMemorySessionService\n",
        "from google.adk.tools import google_search\n",
        "from google.genai import types\n",
        "from datetime import date\n",
        "import textwrap\n",
        "from IPython.display import display, Markdown\n",
        "import requests\n",
        "import warnings\n",
        "\n",
        "warnings.filterwarnings(\"ignore\")"
      ]
    },
    {
      "cell_type": "code",
      "source": [
        "# Função auxiliar que envia uma mensagem para um agente via Runner e retorna a resposta final\n",
        "def call_agent(agent: Agent, message_text: str) -> str:\n",
        "    # Cria um serviço de sessão em memória\n",
        "    session_service = InMemorySessionService()\n",
        "    # Cria uma nova sessão (você pode personalizar os IDs conforme necessário)\n",
        "    session = session_service.create_session(app_name=agent.name, user_id=\"user1\", session_id=\"session1\")\n",
        "    # Cria um Runner para o agente\n",
        "    runner = Runner(agent=agent, app_name=agent.name, session_service=session_service)\n",
        "    # Cria o conteúdo da mensagem de entrada\n",
        "    content = types.Content(role=\"user\", parts=[types.Part(text=message_text)])\n",
        "\n",
        "    final_response = \"\"\n",
        "    # Itera assincronamente pelos eventos retornados durante a execução do agente\n",
        "    for event in runner.run(user_id=\"user1\", session_id=\"session1\", new_message=content):\n",
        "        if event.is_final_response():\n",
        "          for part in event.content.parts:\n",
        "            if part.text is not None:\n",
        "              final_response += part.text\n",
        "              final_response += \"\\n\"\n",
        "    return final_response"
      ],
      "metadata": {
        "id": "_xP4lWhsS5ko"
      },
      "execution_count": 9,
      "outputs": []
    },
    {
      "cell_type": "code",
      "source": [
        "# Função auxiliar para exibir texto formatado em Markdown no Colab\n",
        "def to_markdown(text):\n",
        "  text = text.replace('•', '  *')\n",
        "  return Markdown(textwrap.indent(text, '> ', predicate=lambda _: True))"
      ],
      "metadata": {
        "id": "8dosiodaxfFR"
      },
      "execution_count": 10,
      "outputs": []
    },
    {
      "cell_type": "code",
      "source": [
        "##########################################\n",
        "# --- Agente 1: Fará uma pesquisa aprofundada sobre o uso de celular.\n",
        "##########################################\n",
        "def agente_pesquisador(form_user):\n",
        "\n",
        "    agente_pesquisador_obj = Agent( # Renomeada a variável do objeto Agent para evitar conflito com o nome da função\n",
        "        name=\"agente_pesquisador\",\n",
        "        model=\"gemini-2.0-flash\",\n",
        "        instruction=\"\"\"\n",
        "        Sua missão é construir uma base de conhecimento sólida e abrangente sobre o uso de telefones celulares e seus impactos com base em sua pesquisa no Google (google_search). Realize uma pesquisa detalhada focando nos seguintes aspectos:\n",
        "        Recomendações de Especialistas: Investigue diretrizes médicas e de especialistas sobre o tempo ideal de uso para diversas faixas etárias, identificando os riscos associados ao uso excessivo (saúde física, mental, qualidade do sono, etc.).\n",
        "        Panorama do Uso Atual: Colete dados estatísticos sobre a média de tempo de uso de celulares globalmente e, especificamente, no Brasil. Busque por variações demográficas relevantes (idade, profissão, etc.).\n",
        "        Estratégias de Redução Eficazes: Descubra e catalogue métodos e técnicas comprovadas para diminuir o tempo de tela, como aplicativos de monitoramento, agendamento de tempo de uso, desativação de notificações e outras abordagens práticas.\n",
        "        Hobbies e Atividades Alternativas: Reúna uma lista diversificada e inspiradora de hobbies e atividades offline que possam substituir o tempo gasto no celular (exercícios físicos, leitura, atividades artísticas, interação social, aprendizado, etc.).\n",
        "        Impacto Psicológico e Social: Pesquise sobre os efeitos do uso excessivo de celular na saúde mental (ansiedade, depressão, comparação social, etc.) e na qualidade das relações interpessoais.\n",
        "        Fontes de Informação: Priorize informações provenientes de fontes confiáveis, como estudos científicos publicados, artigos de especialistas reconhecidos, organizações de saúde renomadas e pesquisas de instituições acadêmicas.\n",
        "        Seu objetivo é entregar um conjunto rico e bem referenciado de informações que servirá como matéria-prima essencial para os próximos agentes.\n",
        "        Limite sua pesquisa às últimas notícias e pesquisas relevantes até 5 fontes.\n",
        "        \"\"\",\n",
        "        description=\"Agente que busca informações no Google\",\n",
        "        tools=[google_search]\n",
        "    )\n",
        "\n",
        "    entrada_do_agente_pesquisador = f\"Se baseie nos dados do usuários para fazer sua pesquisa: {form_user}\"\n",
        "\n",
        "    # Chame call_agent com o objeto Agent e a mensagem de entrada\n",
        "    formulario_result = call_agent(agente_pesquisador_obj, entrada_do_agente_pesquisador)\n",
        "    # Retorne o resultado da chamada, não a variável 'lancamentos' que não está definida aqui\n",
        "    return formulario_result"
      ],
      "metadata": {
        "id": "o8bqIfi_DyH8"
      },
      "execution_count": 11,
      "outputs": []
    },
    {
      "cell_type": "code",
      "source": [
        "################################################\n",
        "# --- Agente 2: Seletor de dados --- #\n",
        "################################################\n",
        "def Seletor_Dados(form_user, formulario):\n",
        "    seletor = Agent(\n",
        "        name=\"agente_seletor\",\n",
        "        model=\"gemini-2.0-flash\",\n",
        "        # Inserir as instruções do Agente Planejador #################################################\n",
        "        instruction=\"\"\"\n",
        "            Sua tarefa é refinar e direcionar as informações brutas fornecidas pesquisadas, transformando-as em um conjunto conciso e aplicável para ajudar um usuário a regular o uso do celular.\n",
        "            Análise Crítica: Avalie cuidadosamente todas as informações recebidas, identificando os dados mais impactantes e relevantes para o objetivo de reduzir o tempo de tela.\n",
        "            Foco na Praticidade: Selecione informações que possam ser facilmente compreendidas e implementadas pelo usuário em sua vida diária.\n",
        "            Extração de Pontos Chave: Identifique as principais conclusões, recomendações diretas e estatísticas mais significativas que emergem da pesquisa.\n",
        "            Eliminação de Redundância: Remova informações repetitivas ou que apresentem o mesmo conceito de maneira muito similar.\n",
        "            Organização Temática: Agrupe as informações selecionadas em categorias lógicas (por exemplo, recomendações de saúde, estratégias práticas, sugestões de hobbies) para facilitar o uso pelo Agente 3.\n",
        "            Você também pode usar o (google_search) para refinar ainda mais esses resultados.\n",
        "            Justificativa (Opcional, mas Recomendado): Se possível, inclua uma breve explicação para cada dado selecionado, indicando por que você o considerou particularmente relevante para o usuário.\n",
        "            Seu objetivo é entregar um conjunto de informações filtradas e bem organizadas que formará a espinha dorsal do relatório personalizado para o usuário.\n",
        "        \"\"\",\n",
        "        description=\"Agente que refina a pesquisa feita e relaciona com dados fornecidos pelo usuário\",\n",
        "        tools=[google_search]\n",
        "    )\n",
        "\n",
        "    seletor_result = f\"Formulário do usuário é:{form_user}\\nLançamentos buscados: {formulario}\"\n",
        "    # Executa o agente\n",
        "    filtroPesquisa = call_agent(seletor, seletor_result)\n",
        "    return filtroPesquisa"
      ],
      "metadata": {
        "id": "y3VO1uo5_ghO"
      },
      "execution_count": 17,
      "outputs": []
    },
    {
      "cell_type": "code",
      "source": [
        "######################################\n",
        "# --- Agente 3: Relatório geral com dados do Usuário --- #\n",
        "######################################\n",
        "def relatorio(form_user, filtroPesquisa):\n",
        "    agente_relatorio = Agent(\n",
        "        name=\"agente_relator\",\n",
        "        model=\"gemini-2.0-flash\",\n",
        "        instruction=\"\"\"\n",
        "            Utilizando os dados selecionados pelo Agente seletor e as informações fornecidas sobre o usuário (form_user), sua tarefa é criar um relatório personalizado e motivador para ajudar o usuário a regular o tempo de uso do celular.\n",
        "            Adapte as informações: Conecte os dados gerais sobre o uso de celular com a situação e os objetivos específicos do usuário. Por exemplo, se o usuário mencionou dificuldades para dormir, destaque as informações sobre o impacto do celular no sono.\n",
        "            Estrutura clara e lógica: Organize o relatório em seções fáceis de entender, como:\n",
        "            Introdução: Um resumo do problema do uso excessivo de celular e a importância de encontrar um equilíbrio.\n",
        "            Dados relevantes: Apresente estatísticas e recomendações médicas que ressoem com a situação do usuário.\n",
        "            Estratégias personalizadas: Sugira estratégias práticas para reduzir o uso, levando em consideração a rotina e preferências do usuário.\n",
        "            Alternativas de hobbies: Ofereça uma lista de hobbies e atividades offline que possam interessar ao usuário, com base em seus possíveis interesses (se fornecidos) ou sugestões gerais.\n",
        "            Benefícios de reduzir o uso: Destaque os ganhos em termos de saúde, bem-estar e qualidade de vida.\n",
        "            Mensagem de encorajamento: Finalize com uma mensagem positiva e motivadora para apoiar o usuário em sua jornada.\n",
        "            Linguagem clara e acessível: Utilize uma linguagem amigável, evitando jargões técnicos.\n",
        "            Tom motivacional: Adote um tom de apoio e incentivo, visando inspirar o usuário a fazer mudanças positivas.\n",
        "            Seu objetivo é transformar dados brutos em um guia prático e inspirador que motive o usuário a alcançar um uso mais consciente e saudável do celular.\n",
        "            \"\"\",\n",
        "        description=\"Agente que criará um relatório com base nos dados do usuário e a pesquisa\"\n",
        "    )\n",
        "    relatorio_usuario = f\"Formulário do usuário é:{form_user}\\nPesquisa filtrada: {Seletor_Dados}\"\n",
        "    # Executa o agente\n",
        "    rascunho_relatorio = call_agent(agente_relatorio, relatorio_usuario)\n",
        "    return rascunho_relatorio"
      ],
      "metadata": {
        "id": "uOqlg2TRLVh1"
      },
      "execution_count": 13,
      "outputs": []
    },
    {
      "cell_type": "code",
      "source": [
        "##########################################\n",
        "# --- Agente 4: Revisor de Qualidade --- #\n",
        "##########################################\n",
        "def agente_revisor(topico, rascunho_relatorio):\n",
        "    revisor = Agent(\n",
        "        name=\"agente_revisor\",\n",
        "        model=\"gemini-2.0-flash\",\n",
        "        instruction=\"\"\"\n",
        "            Sua tarefa final é revisar cuidadosamente o relatório gerado pelo rascunho do relatorio para garantir a correção gramatical, ortográfica e de concordância.\n",
        "            Se o conteúdo estiver muito extenso, faça um resumo para que fique melhor para o usuário visualizar\n",
        "            Se julgar necessário, pode fazer um pesuisa no (google_search) para auxiliar na revisão e ver se os dados ainda batem.\n",
        "            \"\"\",\n",
        "        description = \"Agente revisor de relatório.\",\n",
        "        tools=[google_search]\n",
        "    )\n",
        "    entrada_do_agente_revisor = f\"Formulário do usuário é:{form_user}\\nRascunho do Relatório: {rascunho_relatorio}\"\n",
        "    # Executa o agente\n",
        "    texto_revisado = call_agent(revisor, entrada_do_agente_revisor)\n",
        "    return texto_revisado"
      ],
      "metadata": {
        "id": "_aTb1SdkLeT6"
      },
      "execution_count": 14,
      "outputs": []
    },
    {
      "cell_type": "code",
      "source": [
        "form_user = input(\"Digite aqui:\")\n",
        "\n",
        "formulario = agente_pesquisador(form_user)\n",
        "\n",
        "filtroPesquisa = Seletor_Dados(form_user, formulario)\n",
        "\n",
        "rascunho_relatorio = relatorio(form_user, filtroPesquisa)\n",
        "\n",
        "texto_revisado = agente_revisor(form_user, rascunho_relatorio)\n",
        "\n",
        "print(rascunho_relatorio)\n",
        "display(to_markdown(rascunho_relatorio))"
      ],
      "metadata": {
        "collapsed": true,
        "id": "QvymnJQ--8QM",
        "colab": {
          "base_uri": "https://localhost:8080/",
          "height": 364
        },
        "outputId": "f2c869e5-2b48-42a8-e19e-db534a394346"
      },
      "execution_count": 15,
      "outputs": [
        {
          "name": "stdout",
          "output_type": "stream",
          "text": [
            "Digite aqui:\n"
          ]
        },
        {
          "output_type": "error",
          "ename": "NameError",
          "evalue": "name 'pesquisa' is not defined",
          "traceback": [
            "\u001b[0;31m---------------------------------------------------------------------------\u001b[0m",
            "\u001b[0;31mNameError\u001b[0m                                 Traceback (most recent call last)",
            "\u001b[0;32m<ipython-input-15-fdc40390f87c>\u001b[0m in \u001b[0;36m<cell line: 0>\u001b[0;34m()\u001b[0m\n\u001b[1;32m      3\u001b[0m \u001b[0mformulario\u001b[0m \u001b[0;34m=\u001b[0m \u001b[0magente_pesquisador\u001b[0m\u001b[0;34m(\u001b[0m\u001b[0mform_user\u001b[0m\u001b[0;34m)\u001b[0m\u001b[0;34m\u001b[0m\u001b[0;34m\u001b[0m\u001b[0m\n\u001b[1;32m      4\u001b[0m \u001b[0;34m\u001b[0m\u001b[0m\n\u001b[0;32m----> 5\u001b[0;31m \u001b[0mfiltroPesquisa\u001b[0m \u001b[0;34m=\u001b[0m \u001b[0mSeletor_Dados\u001b[0m\u001b[0;34m(\u001b[0m\u001b[0mform_user\u001b[0m\u001b[0;34m,\u001b[0m \u001b[0mformulario\u001b[0m\u001b[0;34m)\u001b[0m\u001b[0;34m\u001b[0m\u001b[0;34m\u001b[0m\u001b[0m\n\u001b[0m\u001b[1;32m      6\u001b[0m \u001b[0;34m\u001b[0m\u001b[0m\n\u001b[1;32m      7\u001b[0m \u001b[0mrascunho_relatorio\u001b[0m \u001b[0;34m=\u001b[0m \u001b[0mrelatorio\u001b[0m\u001b[0;34m(\u001b[0m\u001b[0mform_user\u001b[0m\u001b[0;34m,\u001b[0m \u001b[0mfiltroPesquisa\u001b[0m\u001b[0;34m)\u001b[0m\u001b[0;34m\u001b[0m\u001b[0;34m\u001b[0m\u001b[0m\n",
            "\u001b[0;32m<ipython-input-12-fd1522e3d2e0>\u001b[0m in \u001b[0;36mSeletor_Dados\u001b[0;34m(form_user, formulario)\u001b[0m\n\u001b[1;32m     22\u001b[0m     )\n\u001b[1;32m     23\u001b[0m \u001b[0;34m\u001b[0m\u001b[0m\n\u001b[0;32m---> 24\u001b[0;31m     \u001b[0mseletor_result\u001b[0m \u001b[0;34m=\u001b[0m \u001b[0;34mf\"Formulário do usuário é:{form_user}\\nLançamentos buscados: {pesquisa}\"\u001b[0m\u001b[0;34m\u001b[0m\u001b[0;34m\u001b[0m\u001b[0m\n\u001b[0m\u001b[1;32m     25\u001b[0m     \u001b[0;31m# Executa o agente\u001b[0m\u001b[0;34m\u001b[0m\u001b[0;34m\u001b[0m\u001b[0m\n\u001b[1;32m     26\u001b[0m     \u001b[0mfiltroPesquisa\u001b[0m \u001b[0;34m=\u001b[0m \u001b[0mcall_agent\u001b[0m\u001b[0;34m(\u001b[0m\u001b[0mseletor\u001b[0m\u001b[0;34m,\u001b[0m \u001b[0mseletor_result\u001b[0m\u001b[0;34m)\u001b[0m\u001b[0;34m\u001b[0m\u001b[0;34m\u001b[0m\u001b[0m\n",
            "\u001b[0;31mNameError\u001b[0m: name 'pesquisa' is not defined"
          ]
        }
      ]
    },
    {
      "cell_type": "code",
      "source": [
        "print(\"Olá, eu sou o Concentra.AI, seu assistente inteligente dedicado a\\nte ajudar a retomar o controle do seu tempo e a cultivar um relacionamento mais saudável com o seu celular\\nEm um mundo cada vez mais conectado, é fácil se sentir sobrecarregado e distraído pelo fluxo constante de notificações\\ne informações. Eu estou aqui para te guiar em uma jornada de uso mais consciente\\ne equilibrado do seu dispositivo.\")\n",
        "\n",
        "# --- Obter o Tópico do Usuário ---\n",
        "form_user = [input(\"\\nEm média, quantas horas por dia\\nvocê estima que passa usando o celular?: \"),\n",
        "             input(\"\\nQuais são os principais momentos ou situações em que\\nvocê sente que usa o celular excessivamente?: \"),\n",
        "             input(\"\\nQuais aplicativos ou atividades você mais utiliza no celular?\"),\n",
        "             input(\"\\nVocê já tentou reduzir o tempo\\nde uso do celular antes?: \"),\n",
        "             input(\"\\nSe sim, quais foram os resultados?\\nO que te ajudou ou dificultou o processo?\"),\n",
        "             input(\"\\nQuais são seus principais objetivos ao tentar reduzir\\no tempo de uso do celular? O que você gostaria de fazer ou sentir mais ao diminuir o tempo de tela?: \"),\n",
        "             input(\"\\nQuais são seus principais hobbies ou interesses em seu\\ntempo livre (fora do celular)?: \")]\n",
        "\n",
        "# Inserir lógica do sistema de agentes ################################################\n",
        "if not form_user:\n",
        "    print(\"Você esqueceu de digitar os dados necessários para que a gente consiga te ajudar. Tente novamente.\")\n",
        "else:\n",
        "    print(f\"\\nObrigado por suas respostas! Com base nessas informações, o Concentra.AI\\nirá gerar um relatório personalizado para te auxiliar\\nem sua jornada para um uso mais consciente\\ne equilibrado do seu celular.\")\n",
        "\n",
        "    formulario = agente_pesquisador(form_user)\n",
        "    print(\"\\n--- Vou fazer uma pesquisa sobre o assunto ---\\n\")\n",
        "    display(to_markdown(formulario))\n",
        "    print(\"--------------------------------------------------------------\")\n",
        "\n",
        "    filtroPesquisa = Seletor_Dados(form_user, formulario)\n",
        "    print(\"\\n--- Vou refinar essa pesquisa e trazer somente os dados mais relevantes ---\\n\")\n",
        "    display(to_markdown(filtroPesquisa))\n",
        "    print(\"--------------------------------------------------------------\")\n",
        "\n",
        "    rascunho_relatorio = relatorio(form_user, filtroPesquisa)\n",
        "    print(\"\\n--- Agora vou pensar em um relatório com base nos dados que você me forneceu ---\\n\")\n",
        "    display(to_markdown(rascunho_relatorio))\n",
        "    print(\"--------------------------------------------------------------\")\n",
        "\n",
        "    texto_revisado = agente_revisor(form_user, rascunho_relatorio)\n",
        "    print(\"\\n--- Aqui está seu relatório, espero que te ajude ---\\n\")\n",
        "    display(to_markdown(texto_revisado))\n",
        "    print(\"--------------------------------------------------------------\")\n"
      ],
      "metadata": {
        "colab": {
          "base_uri": "https://localhost:8080/",
          "height": 1000
        },
        "id": "6xzI6LKzxxnN",
        "outputId": "0c7d0768-2e6f-46db-c0f9-5f351c870da8",
        "collapsed": true
      },
      "execution_count": 18,
      "outputs": [
        {
          "output_type": "stream",
          "name": "stdout",
          "text": [
            "Olá, eu sou o Concentra.AI, seu assistente inteligente dedicado a\n",
            "te ajudar a retomar o controle do seu tempo e a cultivar um relacionamento mais saudável com o seu celular\n",
            "Em um mundo cada vez mais conectado, é fácil se sentir sobrecarregado e distraído pelo fluxo constante de notificações\n",
            "e informações. Eu estou aqui para te guiar em uma jornada de uso mais consciente\n",
            "e equilibrado do seu dispositivo.\n",
            "\n",
            "Em média, quantas horas por dia\n",
            "você estima que passa usando o celular?: 5\n",
            "\n",
            "Quais são os principais momentos ou situações em que\n",
            "você sente que usa o celular excessivamente?: Em casa\n",
            "\n",
            "Quais aplicativos ou atividades você mais utiliza no celular?Yotuube\n",
            "\n",
            "Você já tentou reduzir o tempo\n",
            "de uso do celular antes?: Não\n",
            "\n",
            "Se sim, quais foram os resultados?\n",
            "O que te ajudou ou dificultou o processo?Não\n",
            "\n",
            "Quais são seus principais objetivos ao tentar reduzir\n",
            "o tempo de uso do celular? O que você gostaria de fazer ou sentir mais ao diminuir o tempo de tela?: Otimizar meu tempo\n",
            "\n",
            "Quais são seus principais hobbies ou interesses em seu\n",
            "tempo livre (fora do celular)?: Andar de skate\n",
            "\n",
            "Obrigado por suas respostas! Com base nessas informações, o Concentra.AI\n",
            "irá gerar um relatório personalizado para te auxiliar\n",
            "em sua jornada para um uso mais consciente\n",
            "e equilibrado do seu celular.\n",
            "\n",
            "--- Vou fazer uma pesquisa sobre o assunto ---\n",
            "\n"
          ]
        },
        {
          "output_type": "display_data",
          "data": {
            "text/plain": [
              "<IPython.core.display.Markdown object>"
            ],
            "text/markdown": "> Com base nas informações fornecidas, vou realizar uma pesquisa focada nos seguintes pontos, considerando a idade do usuário (5 anos), o local de uso predominante (em casa), o aplicativo mais utilizado (YouTube), a ausência de estratégias de otimização de tempo e a prática de andar de skate como atividade alternativa:\n> \n> 1.  **Recomendações de especialistas para tempo de tela para crianças de 5 anos:** Quais são as diretrizes médicas e de especialistas sobre o tempo ideal de uso de tela para crianças de 5 anos, com foco em YouTube e uso em casa? Quais os riscos associados ao uso excessivo em termos de saúde física, mental e sono?\n> 2.  **Estratégias de redução de tempo de tela adequadas para crianças de 5 anos:** Quais métodos e técnicas comprovadas são mais eficazes para diminuir o tempo de tela em crianças de 5 anos, considerando o uso predominante em casa e no YouTube? Como envolver os pais nesse processo?\n> 3.  **Atividades alternativas para crianças de 5 anos além de andar de skate:** Que outros hobbies e atividades offline são recomendadas para crianças de 5 anos, além de andar de skate, para promover o desenvolvimento físico, cognitivo e social?\n> 4.  **Impacto do uso excessivo de YouTube em crianças:** Quais são os efeitos do uso excessivo do YouTube na saúde mental (ansiedade, atenção, etc.) e no desenvolvimento social de crianças de 5 anos?\n> 5.  **Fontes de informação confiáveis sobre tempo de tela e desenvolvimento infantil:** Quais são as fontes de informação mais confiáveis (estudos científicos, artigos de especialistas, organizações de saúde) sobre o impacto do tempo de tela e estratégias de redução para crianças de 5 anos?\n> \n> \n> Com base nas informações encontradas, aqui está um resumo detalhado e estruturado para auxiliar o usuário:\n> \n> **1. Recomendações de especialistas para tempo de tela para crianças de 5 anos:**\n> \n> *   **Tempo recomendado:** A Sociedade Brasileira de Pediatria (SBP), a Academia Americana de Pediatria (AAP) e a Organização Mundial da Saúde (OMS) recomendam **no máximo 1 hora por dia** para crianças menores de 5 anos. É crucial que esse tempo seja supervisionado por um adulto.\n> *   **Riscos do uso excessivo:**\n>     *   **Saúde física:** Estilo de vida sedentário, levando à obesidade e problemas de saúde relacionados. Problemas posturais e dores musculares também podem surgir.\n>     *   **Sono:** Dificuldade para dormir, interferência na qualidade e duração do sono, podendo levar à sonolência diurna.\n>     *   **Desenvolvimento cognitivo:** Problemas de concentração, dificuldades de interação e adaptação ao meio social, diminuição da capacidade de comunicação e resolução de problemas.\n>     *   **Saúde mental:** Irritabilidade, ansiedade, depressão, baixa autoestima e, em adolescentes, transtornos da imagem corporal. Comparação constante com os outros nas redes sociais pode exacerbar esses problemas.\n>     *   **Dependência tecnológica:** Uso compulsivo, irritação ou ansiedade quando afastados dos dispositivos.\n> \n> **2. Estratégias de redução de tempo de tela adequadas para crianças de 5 anos:**\n> \n> *   **Estabelecer limites claros:** Definir um tempo máximo diário de uso e horários específicos.\n> *   **Supervisão:** Usar as telas sempre com supervisão de pais, cuidadores ou responsáveis.\n> *   **Conteúdo de qualidade:** Selecionar conteúdos apropriados e de qualidade, focados em aprendizado e desenvolvimento. Atuar como \"curadores digitais\", escolhendo o que é realmente benéfico.\n> *   **Zonas e horários livres de tela:** Criar zonas livres de telas em casa, como durante as refeições e antes de dormir. Desconectar-se 1 a 2 horas antes de dormir.\n> *   **Atividades alternativas:**\n>     *   Incentivar atividades físicas e ao ar livre, como andar de skate, jogos, esportes, e brincadeiras que estimulem a interação com outras crianças.\n>     *   Promover vínculos afetivos e minimizar os efeitos negativos do excesso de exposição às telas.\n>     *   Oferecer outras formas de entretenimento, como leitura, atividades artísticas (pintura com as mãos, teatro de fantoches), caça ao tesouro, jogos de quebra-cabeças, dança, e outras brincadeiras.\n>     *   Incentivar a participação em jogos de equipe, esportes e atividades que estimulem a interação com outras crianças para construir habilidades como empatia, cooperação e resiliência.\n> *   **Envolvimento dos pais:** Liderar pelo exemplo, modelando hábitos saudáveis de mídia para os filhos. Participar da visualização compartilhada.\n> *   **Comunicação:** Promover a comunicação aberta e explicar a importância do equilíbrio e da moderação.\n> \n> **3. Atividades alternativas para crianças de 5 anos além de andar de skate:**\n> \n> *   **Atividades físicas:** Pega-pega, pular corda, cambalhotas, corridas, saltos de baixa intensidade, ginástica olímpica, natação, danças, artes marciais de baixo impacto.\n> *   **Brincadeiras ao ar livre:** Amarelinha, esconde-esconde, jogos com bola.\n> *   **Atividades criativas:** Pintura com as mãos, teatro de fantoches, caça ao tesouro.\n> *   **Jogos:** Jogos de quebra-cabeças, dança das cadeiras.\n> *   **Outras atividades:** Contato com a natureza, leitura, atividades que envolvam a família.\n> \n> **4. Impacto do uso excessivo de YouTube em crianças:**\n> \n> *   **Problemas de saúde mental:** Depressão, ansiedade, baixa autoestima e transtornos de imagem corporal.\n> *   **Problemas cognitivos:** Pode prejudicar o desenvolvimento cognitivo, afetando a capacidade de concentração, memória e habilidades de resolução de problemas.\n> *   **Dificuldades sociais:** Dificuldades de interação e adaptação ao meio social.\n> *   **Exposição a conteúdos inadequados:** Risco de exposição a conteúdos violentos, sexuais ou perturbadores.\n> \n> **5. Fontes de informação confiáveis sobre tempo de tela e desenvolvimento infantil:**\n> \n> *   Sociedade Brasileira de Pediatria (SBP).\n> *   Academia Americana de Pediatria (AAP).\n> *   Organização Mundial da Saúde (OMS).\n> *   Artigos científicos e estudos de universidades e instituições de pesquisa.\n> *   Manuais de orientação sobre saúde na era digital.\n> \n> É importante lembrar que o equilíbrio é fundamental. O uso de telas pode ter benefícios, como acesso à informação e entretenimento educativo, mas o excesso pode ser prejudicial. A chave é a moderação, a supervisão e o oferecimento de alternativas saudáveis e estimulantes.\n> \n"
          },
          "metadata": {}
        },
        {
          "output_type": "stream",
          "name": "stdout",
          "text": [
            "--------------------------------------------------------------\n",
            "\n",
            "--- Vou refinar essa pesquisa e trazer somente os dados mais relevantes ---\n",
            "\n"
          ]
        },
        {
          "output_type": "display_data",
          "data": {
            "text/plain": [
              "<IPython.core.display.Markdown object>"
            ],
            "text/markdown": "> Com base nas informações fornecidas e no perfil do usuário, selecionei e organizei os dados mais relevantes para ajudá-lo a regular o uso do celular de seu filho de 5 anos:\n> \n> **1. Recomendações de especialistas sobre tempo de tela:**\n> \n> *   **Tempo Máximo:** Limitar o uso a no máximo 1 hora por dia, sempre com supervisão. Isso é crucial para a saúde física, mental e cognitiva da criança.\n> *   **Riscos:**\n>     *   Problemas de sono: Dificuldade para dormir e má qualidade do sono.\n>     *   Desenvolvimento: Problemas de concentração, interação social e comunicação.\n>     *   Saúde Mental: Irritabilidade e ansiedade.\n>     *   Sedentarismo: Aumento do risco de obesidade.\n> \n> **2. Estratégias práticas para reduzir o tempo de tela:**\n> \n> *   **Limites Claros:** Defina horários específicos e tempo máximo de uso diário.\n> *   **Supervisão Contínua:** Garanta que o uso das telas seja sempre supervisionado.\n> *   **Conteúdo de Qualidade:** Escolha vídeos e aplicativos educativos e apropriados para a idade.\n> *   **Zonas Livres de Tela:** Evite telas durante as refeições e 1-2 horas antes de dormir.\n> *   **Atividades Alternativas:**\n>     *   Incentive atividades físicas como andar de skate, esportes e brincadeiras ao ar livre.\n>     *   Promova atividades criativas como pintura, teatro de fantoches e leitura.\n>     *   Estimule jogos de quebra-cabeças e brincadeiras que envolvam a família.\n> *   **Exemplo dos Pais:** Mostre hábitos saudáveis de uso de mídia.\n> *   **Comunicação Aberta:** Explique a importância do equilíbrio e da moderação.\n> \n> **3. Atividades alternativas (além de andar de skate):**\n> \n> *   **Físicas:** Pega-pega, pular corda, natação, dança, artes marciais de baixo impacto.\n> *   **Ao ar livre:** Amarelinha, esconde-esconde, jogos com bola.\n> *   **Criativas:** Pintura com as mãos, teatro de fantoches, caça ao tesouro.\n> *   **Jogos:** Quebra-cabeças, dança das cadeiras.\n> *   **Outras:** Contato com a natureza, leitura em família.\n> \n> **4. Impacto específico do uso excessivo de YouTube:**\n> \n> *   **Saúde Mental:** Risco de depressão, ansiedade e baixa autoestima.\n> *   **Cognitivo:** Prejuízo na concentração, memória e resolução de problemas.\n> *   **Social:** Dificuldades de interação social.\n> *   **Conteúdo Inadequado:** Exposição a conteúdos violentos ou perturbadores.\n> \n> **5. Fontes confiáveis para mais informações:**\n> \n> *   Sociedade Brasileira de Pediatria (SBP)\n> *   Academia Americana de Pediatria (AAP)\n> *   Organização Mundial da Saúde (OMS)\n> \n> Lembre-se: O objetivo é o equilíbrio. As telas podem ser benéficas, mas o excesso é prejudicial. Moderação, supervisão e alternativas saudáveis são a chave.\n> \n"
          },
          "metadata": {}
        },
        {
          "output_type": "stream",
          "name": "stdout",
          "text": [
            "--------------------------------------------------------------\n",
            "\n",
            "--- Agora vou pensar em um relatório com base nos dados que você me forneceu ---\n",
            "\n"
          ]
        },
        {
          "output_type": "display_data",
          "data": {
            "text/plain": [
              "<IPython.core.display.Markdown object>"
            ],
            "text/markdown": "> Olá! Entendo que você está buscando otimizar seu tempo e reduzir o uso do celular, especialmente em casa e com foco no YouTube. Que ótimo que você já identificou isso e está tomando uma atitude! Abaixo, preparei um relatório com algumas informações e dicas que podem te ajudar nessa jornada.\n> \n> **Introdução:**\n> \n> Hoje em dia, é super comum passarmos mais tempo do que gostaríamos no celular. O problema é que esse uso excessivo pode nos impedir de aproveitar outras coisas importantes na vida, como nossos hobbies, amigos e até mesmo nossa saúde. Mas não se preocupe, com algumas estratégias e um pouco de disciplina, é possível encontrar um equilíbrio saudável!\n> \n> **Dados Relevantes:**\n> \n> *   **Tempo médio:** Usuários passam em média 5 horas por dia no celular.\n> *   **YouTube:** O YouTube é uma das plataformas que mais prendem a atenção, com vídeos que muitas vezes são feitos para serem viciantes.\n> *   **Impacto em casa:** Usar muito o celular em casa pode diminuir o tempo que você passa com a família, fazendo atividades físicas ou relaxando de verdade.\n> *   **Recomendação:** Especialistas recomendam limitar o uso diário do celular a no máximo 2 horas para um bem estar saudável.\n> \n> **Estratégias Personalizadas:**\n> \n> 1.  **Defina horários:** Já que você usa mais o celular em casa, que tal estabelecer horários específicos para checar o YouTube? Por exemplo, 30 minutos pela manhã e 30 minutos à noite.\n> 2.  **Aplicativos:** Existem aplicativos que monitoram o tempo de uso e até bloqueiam o acesso a determinados apps depois de um tempo. Experimente alguns para ver qual funciona melhor para você.\n> 3.  **Notificações:** Desative as notificações do YouTube. Assim, você evita ser interrompido a todo momento e perde menos tempo abrindo o aplicativo por impulso.\n> 4.  **Substituição:** Quando sentir vontade de pegar o celular, tente fazer outra coisa que goste. Que tal pegar seu skate e dar uma volta?\n> \n> **Alternativas de Hobbies:**\n> \n> *   **Andar de Skate:** Você já tem um ótimo hobby! Que tal explorar novos lugares para andar de skate, aprender manobras novas ou até fazer um vídeo para compartilhar com outros skatistas?\n> *   **Esportes:** Além de skate, experimente outros esportes como corrida, bicicleta ou natação.\n> *   **Leitura:** Descubra novos livros ou revistas sobre assuntos que te interessam.\n> *   **Música:** Aprenda a tocar um instrumento, cante, dance ou simplesmente relaxe ouvindo suas músicas favoritas.\n> *   **Cozinhar:** Experimente novas receitas, convide amigos para jantar ou faça um curso de culinária.\n> \n> **Benefícios de Reduzir o Uso:**\n> \n> *   **Mais tempo:** Você terá mais tempo para se dedicar a seus hobbies e outras atividades que te dão prazer.\n> *   **Melhor foco:** Diminuir o uso do celular ajuda a melhorar a concentração e a produtividade.\n> *   **Menos ansiedade:** Reduzir a exposição constante a notícias e redes sociais diminui a ansiedade e o estresse.\n> *   **Melhor sono:** Evitar o celular antes de dormir melhora a qualidade do sono.\n> *   **Mais conexão:** Você estará mais presente nos momentos com amigos e familiares.\n> \n> **Mensagem de Encorajamento:**\n> \n> Lembre-se que mudar hábitos leva tempo e esforço. Não se cobre demais se não conseguir de primeira. O importante é persistir e celebrar cada pequena vitória. Acredite em você e nos benefícios que essa mudança trará para sua vida. Você está no caminho certo para otimizar seu tempo e viver de forma mais equilibrada e feliz!\n"
          },
          "metadata": {}
        },
        {
          "output_type": "stream",
          "name": "stdout",
          "text": [
            "--------------------------------------------------------------\n",
            "\n",
            "--- Aqui está seu relatório, espero que te ajude ---\n",
            "\n"
          ]
        },
        {
          "output_type": "display_data",
          "data": {
            "text/plain": [
              "<IPython.core.display.Markdown object>"
            ],
            "text/markdown": "> Olá! Entendo que você está buscando otimizar seu tempo e reduzir o uso do celular, especialmente em casa e com foco no YouTube, já tendo inclusive identificado o problema e querendo resolvê-lo! Abaixo, preparei um relatório com algumas informações e dicas que podem te ajudar nessa jornada.\n> \n> **Resumo:**\n> \n> O uso excessivo de celular pode impactar negativamente diversas áreas da vida, como hobbies, relacionamentos e saúde. Este relatório visa auxiliar na busca por um equilíbrio saudável, com foco na otimização do tempo e redução do uso do YouTube em casa.\n> \n> **Dados Relevantes:**\n> \n> *   **Tempo médio:** Usuários passam em média 5 horas por dia no celular.\n> *   **YouTube:** Plataforma com vídeos feitos para serem viciantes.\n> *   **Impacto em casa:** Redução do tempo com a família e outras atividades.\n> *   **Recomendação:** Limitar o uso diário do celular a no máximo 2 horas.\n> \n> **Estratégias Personalizadas:**\n> \n> 1.  **Horários:** Defina horários específicos para usar o YouTube em casa (ex: 30 minutos pela manhã e à noite).\n> 2.  **Aplicativos:** Utilize aplicativos para monitorar e bloquear o uso excessivo de determinados apps.\n> 3.  **Notificações:** Desative as notificações do YouTube para evitar interrupções constantes.\n> 4.  **Substituição:** Pratique seu hobby, andar de skate, ou encontre novas atividades prazerosas.\n> \n> **Alternativas de Hobbies:**\n> \n> *   Andar de Skate\n> *   Esportes\n> *   Leitura\n> *   Música\n> *   Cozinhar\n> \n> **Benefícios de Reduzir o Uso:**\n> \n> *   Mais tempo livre\n> *   Melhor foco e produtividade\n> *   Menos ansiedade e estresse\n> *   Melhor qualidade do sono\n> *   Mais conexão com pessoas próximas\n> \n> **Mensagem de Encorajamento:**\n> \n> Mudar hábitos exige tempo e persistência. Celebre cada pequena conquista e acredite no impacto positivo dessa mudança em sua vida.\n"
          },
          "metadata": {}
        },
        {
          "output_type": "stream",
          "name": "stdout",
          "text": [
            "--------------------------------------------------------------\n"
          ]
        }
      ]
    }
  ]
}